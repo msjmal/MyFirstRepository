{
 "cells": [
  {
   "cell_type": "markdown",
   "id": "9cbde603",
   "metadata": {},
   "source": [
    "# Welcome to a Jupyter Notebook\n",
    "\n",
    "This is a subtitle"
   ]
  },
  {
   "cell_type": "code",
   "execution_count": 1,
   "id": "8f6595f7",
   "metadata": {},
   "outputs": [
    {
     "name": "stdout",
     "output_type": "stream",
     "text": [
      "hello\n"
     ]
    }
   ],
   "source": [
    "print(\"hello\")"
   ]
  }
 ],
 "metadata": {
  "kernelspec": {
   "display_name": "Python 3 (ipykernel)",
   "language": "python",
   "name": "python3"
  },
  "language_info": {
   "codemirror_mode": {
    "name": "ipython",
    "version": 3
   },
   "file_extension": ".py",
   "mimetype": "text/x-python",
   "name": "python",
   "nbconvert_exporter": "python",
   "pygments_lexer": "ipython3",
   "version": "3.11.5"
  }
 },
 "nbformat": 4,
 "nbformat_minor": 5
}
